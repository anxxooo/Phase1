{
 "cells": [
  {
   "cell_type": "code",
   "execution_count": 1,
   "id": "398f3cb1-9a8c-4e51-8706-61ca8bbde74e",
   "metadata": {},
   "outputs": [],
   "source": [
    "import pandas as pd\n",
    "import numpy as np\n",
    "import cv2\n",
    "import os\n",
    "import matplotlib.pyplot as plt\n",
    "from mtcnn.mtcnn import MTCNN"
   ]
  },
  {
   "cell_type": "code",
   "execution_count": null,
   "id": "0cc494d7-56e3-4a99-8208-21f930e66b22",
   "metadata": {},
   "outputs": [],
   "source": [
    "input_folder = r\"C:\\Users\\user\\Desktop\\Dataset\"  \n",
    "output_folder = r\"C:\\Users\\user\\Desktop\\Cleaned_Data\"\n",
    "os.makedirs(output_folder, exist_ok=True)"
   ]
  },
  {
   "cell_type": "code",
   "execution_count": null,
   "id": "b3477d69-a06a-4f60-9137-a94190dc3ba4",
   "metadata": {},
   "outputs": [],
   "source": [
    "'''\n",
    "The folders are structured in subfolders\n",
    "where each subfolder has the name of the person\n",
    "and inside of it are the images of that person\n",
    "There is also an Unknow"
   ]
  },
  {
   "cell_type": "code",
   "execution_count": null,
   "id": "9b72492f-1a53-4b3e-999c-fadfe1eb9157",
   "metadata": {},
   "outputs": [],
   "source": [
    "def process_and_save_faces(input_folder, output_folder, output_size=(160, 160)):\n",
    "    #Detect faces using MTCNN\n",
    "    detector = MTCNN()\n",
    "\n",
    "    if not os.path.exists(output_folder):\n",
    "        os.makedirs(output_folder)\n",
    "\n",
    "    # Counter for saved faces\n",
    "    total_faces = 0\n",
    "\n",
    "    # Iterate through subfolders in the input folder (each person's images are saved in a subfolder with their name on it)\n",
    "    for subfolder in os.listdir(input_folder):\n",
    "        subfolder_path = os.path.join(input_folder, subfolder)\n",
    "        \n",
    "        if os.path.isdir(subfolder_path):\n",
    "            output_subfolder = os.path.join(output_folder, subfolder)\n",
    "\n",
    "            # Create corresponding output subfolder if it doesn't exist\n",
    "            if not os.path.exists(output_subfolder):\n",
    "                os.makedirs(output_subfolder)\n",
    "\n",
    "            # Iterate through images in the subfolder\n",
    "            for filename in os.listdir(subfolder_path):\n",
    "                input_path = os.path.join(subfolder_path, filename)\n",
    "                \n",
    "                if True :\n",
    "                    image = cv2.imread(input_path)\n",
    "\n",
    "                    # Convert to RGB (MTCNN expects RGB format)\n",
    "                    rgb_image = cv2.cvtColor(image, cv2.COLOR_BGR2RGB)\n",
    "\n",
    "                    # Detect faces using MTCNN\n",
    "                    detections = detector.detect_faces(rgb_image)\n",
    "\n",
    "                    for idx, detection in enumerate(detections):\n",
    "                        # Get the bounding box for the face\n",
    "                        x, y, width, height = detection['box']\n",
    "                        x, y = max(0, x), max(0, y)  \n",
    "\n",
    "                        # Crop the face\n",
    "                        face = rgb_image[y:y + height, x:x + width]\n",
    "\n",
    "                        # Resize the face to the desired size\n",
    "                        face_resized = cv2.resize(face, output_size)\n",
    "\n",
    "                        # Save the processed face\n",
    "                        output_path = os.path.join(output_subfolder, f\"{os.path.splitext(filename)[0]}_face{idx}.jpg\")\n",
    "                        cv2.imwrite(output_path, cv2.cvtColor(face_resized, cv2.COLOR_RGB2BGR))  # Save in BGR format for OpenCV\n",
    "\n",
    "                        # Increment the face counter\n",
    "                        total_faces += 1\n",
    "\n",
    "                    # Display the original image with rectangles drawn around detected faces\n",
    "                    for detection in detections:\n",
    "                        x, y, width, height = detection['box']\n",
    "                        cv2.rectangle(image, (x, y), (x + width, y + height), (255, 0, 0), 2)\n",
    "\n",
    "                    plt.imshow(cv2.cvtColor(image, cv2.COLOR_BGR2RGB))\n",
    "                    plt.axis('off')\n",
    "                    plt.show()\n",
    "\n",
    "    print(f\"Processed {total_faces} faces in total.\")\n",
    "\n",
    "process_and_save_faces(input_folder, output_folder)"
   ]
  }
 ],
 "metadata": {
  "kernelspec": {
   "display_name": "Python 3 (ipykernel)",
   "language": "python",
   "name": "python3"
  },
  "language_info": {
   "codemirror_mode": {
    "name": "ipython",
    "version": 3
   },
   "file_extension": ".py",
   "mimetype": "text/x-python",
   "name": "python",
   "nbconvert_exporter": "python",
   "pygments_lexer": "ipython3",
   "version": "3.12.7"
  }
 },
 "nbformat": 4,
 "nbformat_minor": 5
}
